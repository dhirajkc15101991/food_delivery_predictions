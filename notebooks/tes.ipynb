{
 "cells": [
  {
   "cell_type": "code",
   "execution_count": 1,
   "metadata": {},
   "outputs": [
    {
     "name": "stdout",
     "output_type": "stream",
     "text": [
      "Dhiraj\n"
     ]
    }
   ],
   "source": [
    "print(\"Dhiraj\")"
   ]
  },
  {
   "cell_type": "code",
   "execution_count": 2,
   "metadata": {},
   "outputs": [],
   "source": [
    "import dagshub\n",
    "import mlflow"
   ]
  },
  {
   "cell_type": "code",
   "execution_count": 4,
   "metadata": {},
   "outputs": [
    {
     "data": {
      "text/html": [
       "<pre style=\"white-space:pre;overflow-x:auto;line-height:normal;font-family:Menlo,'DejaVu Sans Mono',consolas,'Courier New',monospace\">Initialized MLflow to track repo <span style=\"color: #008000; text-decoration-color: #008000\">\"dhirajkc15101991/food_delivery_predictions\"</span>\n",
       "</pre>\n"
      ],
      "text/plain": [
       "Initialized MLflow to track repo \u001b[32m\"dhirajkc15101991/food_delivery_predictions\"\u001b[0m\n"
      ]
     },
     "metadata": {},
     "output_type": "display_data"
    },
    {
     "data": {
      "text/html": [
       "<pre style=\"white-space:pre;overflow-x:auto;line-height:normal;font-family:Menlo,'DejaVu Sans Mono',consolas,'Courier New',monospace\">Repository dhirajkc15101991/food_delivery_predictions initialized!\n",
       "</pre>\n"
      ],
      "text/plain": [
       "Repository dhirajkc15101991/food_delivery_predictions initialized!\n"
      ]
     },
     "metadata": {},
     "output_type": "display_data"
    },
    {
     "data": {
      "text/plain": [
       "<Experiment: artifact_location='mlflow-artifacts:/60f65df32f9f452491cc304498784dd2', creation_time=1744176878139, experiment_id='0', last_update_time=1744176878139, lifecycle_stage='active', name='DVC Pipeline', tags={}>"
      ]
     },
     "execution_count": 4,
     "metadata": {},
     "output_type": "execute_result"
    }
   ],
   "source": [
    "\n",
    "\n",
    "dagshub.init(repo_owner='dhirajkc15101991', repo_name='food_delivery_predictions', mlflow=True)\n",
    "\n",
    "# set the mlflow tracking server\n",
    "mlflow.set_tracking_uri(\"https://dagshub.com/dhirajkc15101991/food_delivery_predictions.mlflow\")\n",
    "\n",
    "# set mlflow experment name\n",
    "mlflow.set_experiment(\"DVC Pipeline\")"
   ]
  },
  {
   "cell_type": "code",
   "execution_count": 5,
   "metadata": {},
   "outputs": [
    {
     "data": {
      "text/html": [
       "<pre style=\"white-space:pre;overflow-x:auto;line-height:normal;font-family:Menlo,'DejaVu Sans Mono',consolas,'Courier New',monospace\">Initialized MLflow to track repo <span style=\"color: #008000; text-decoration-color: #008000\">\"dhirajkc15101991/food_delivery_predictions\"</span>\n",
       "</pre>\n"
      ],
      "text/plain": [
       "Initialized MLflow to track repo \u001b[32m\"dhirajkc15101991/food_delivery_predictions\"\u001b[0m\n"
      ]
     },
     "metadata": {},
     "output_type": "display_data"
    },
    {
     "data": {
      "text/html": [
       "<pre style=\"white-space:pre;overflow-x:auto;line-height:normal;font-family:Menlo,'DejaVu Sans Mono',consolas,'Courier New',monospace\">Repository dhirajkc15101991/food_delivery_predictions initialized!\n",
       "</pre>\n"
      ],
      "text/plain": [
       "Repository dhirajkc15101991/food_delivery_predictions initialized!\n"
      ]
     },
     "metadata": {},
     "output_type": "display_data"
    },
    {
     "data": {
      "text/plain": [
       "<Experiment: artifact_location='mlflow-artifacts:/60f65df32f9f452491cc304498784dd2', creation_time=1744176878139, experiment_id='0', last_update_time=1744176878139, lifecycle_stage='active', name='DVC Pipeline', tags={}>"
      ]
     },
     "execution_count": 5,
     "metadata": {},
     "output_type": "execute_result"
    }
   ],
   "source": [
    "dagshub.init(repo_owner='dhirajkc15101991', repo_name='food_delivery_predictions', mlflow=True)\n",
    "\n",
    "# set the mlflow tracking server\n",
    "mlflow.set_tracking_uri(\"https://dagshub.com/dhirajkc15101991/food_delivery_predictions.mlflow\")\n",
    "\n",
    "# set mlflow experment name\n",
    "mlflow.set_experiment(\"DVC Pipeline\")"
   ]
  },
  {
   "cell_type": "code",
   "execution_count": null,
   "metadata": {},
   "outputs": [],
   "source": []
  },
  {
   "cell_type": "code",
   "execution_count": null,
   "metadata": {},
   "outputs": [],
   "source": []
  },
  {
   "cell_type": "code",
   "execution_count": null,
   "metadata": {},
   "outputs": [],
   "source": []
  }
 ],
 "metadata": {
  "kernelspec": {
   "display_name": "fiid_delivery_env_3_11",
   "language": "python",
   "name": "python3"
  },
  "language_info": {
   "codemirror_mode": {
    "name": "ipython",
    "version": 3
   },
   "file_extension": ".py",
   "mimetype": "text/x-python",
   "name": "python",
   "nbconvert_exporter": "python",
   "pygments_lexer": "ipython3",
   "version": "3.11.11"
  }
 },
 "nbformat": 4,
 "nbformat_minor": 2
}
